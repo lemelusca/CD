{
 "cells": [
  {
   "cell_type": "markdown",
   "metadata": {},
   "source": [
    "___\n",
    "# MINIPROJETO 1"
   ]
  },
  {
   "cell_type": "markdown",
   "metadata": {},
   "source": [
    "## <font color='red'>Lucas Henrique Lemes Silva</font>\n",
    "___"
   ]
  },
  {
   "cell_type": "markdown",
   "metadata": {},
   "source": [
    "## <font color='blue'>NOME DA VARIÁVEL QUANTITATIVA ESCOLHIDA</font>"
   ]
  },
  {
   "cell_type": "markdown",
   "metadata": {},
   "source": [
    "___\n",
    "### Itens 1 a 3 - Resolução:"
   ]
  },
  {
   "cell_type": "code",
   "execution_count": null,
   "metadata": {
    "collapsed": false
   },
   "outputs": [],
   "source": [
    "%matplotlib inline\n",
    "import pandas as pd\n",
    "import matplotlib.pyplot as plt\n",
    "import numpy as np\n",
    "import os\n",
    "from scipy import stats\n",
    "from scipy.stats import norm\n",
    "import math \n",
    "from scipy.stats import t\n",
    "\n",
    "print('Esperamos trabalhar no diretório')\n",
    "print(os.getcwd())"
   ]
  },
  {
   "cell_type": "code",
   "execution_count": 2,
   "metadata": {
    "collapsed": false
   },
   "outputs": [
    {
     "data": {
      "text/plain": [
       "count     32062.000000\n",
       "mean      80204.178634\n",
       "std       25098.329868\n",
       "min           0.960000\n",
       "25%       72862.400000\n",
       "50%       84450.000000\n",
       "75%       93240.000000\n",
       "max      300000.000000\n",
       "Name: Employee_Annual_Salary, dtype: float64"
      ]
     },
     "execution_count": 2,
     "metadata": {},
     "output_type": "execute_result"
    }
   ],
   "source": [
    "Dados = pd.read_csv('Salario1.csv', sep=',')\n",
    "\n",
    "Dados = Dados[(~Dados.Employee_Annual_Salary.isnull())]\n",
    "\n",
    "Dados.Employee_Annual_Salary\n",
    "\n",
    "Dados.Employee_Annual_Salary.describe()"
   ]
  },
  {
   "cell_type": "code",
   "execution_count": 3,
   "metadata": {
    "collapsed": false
   },
   "outputs": [
    {
     "data": {
      "image/png": "[encoded data removed]",
      "text/plain": [
       "<matplotlib.figure.Figure at 0xfc1c72f400>"
      ]
     },
     "metadata": {},
     "output_type": "display_data"
    }
   ],
   "source": [
    "ut1 = Dados.Employee_Annual_Salary\n",
    "\n",
    "plt.hist(ut1, bins = range(90,300000,10000), normed = 1)\n",
    "plt.ylabel(\"Densidade\")\n",
    "plt.xlabel(\"Salario Anual\")\n",
    "plt.show()"
   ]
  },
  {
   "cell_type": "markdown",
   "metadata": {
    "collapsed": false
   },
   "source": [
    "Histograma Simetrico\n",
    "\n",
    "Modelos Probabilisticos: Normal; T\n",
    "\n",
    "Escolhi esses dois modelos probabilísticos acima, pois eles são utilizados na estatística para ajustar dados com uma distribuição simétrica, assim como o histograma acima.\n"
   ]
  },
  {
   "cell_type": "markdown",
   "metadata": {
    "collapsed": true
   },
   "source": [
    "___\n",
    "### Itens 4 a 6 - Resolução:"
   ]
  },
  {
   "cell_type": "code",
   "execution_count": 4,
   "metadata": {
    "collapsed": false
   },
   "outputs": [
    {
     "name": "stdout",
     "output_type": "stream",
     "text": [
      "80204.178633899\n",
      "25097.938461397865\n",
      "(80204.178633896823, 25097.938461397222)\n",
      "(0.1019641237067129, 84450.000089057619, 1.6802785323549867)\n"
     ]
    }
   ],
   "source": [
    "#parametros da normal\n",
    "\n",
    "u = np.mean(ut1)\n",
    "print(u)\n",
    "\n",
    "desv = np.std(ut1)\n",
    "print(desv)\n",
    "\n",
    "A = stats.norm.fit(ut1)\n",
    "print(A)\n",
    "\n",
    "par = stats.t.fit(ut1)\n",
    "print(par)"
   ]
  },
  {
   "cell_type": "code",
   "execution_count": 5,
   "metadata": {
    "collapsed": false
   },
   "outputs": [
    {
     "name": "stdout",
     "output_type": "stream",
     "text": [
      "(0.1019641237067129, 84450.000089057619, 1.6802785323549867)\n"
     ]
    }
   ],
   "source": [
    "#parametros de t\n",
    "\n",
    "par = stats.t.fit(ut1)\n",
    "print(par)\n"
   ]
  },
  {
   "cell_type": "markdown",
   "metadata": {
    "collapsed": true
   },
   "source": [
    "___\n",
    "### Itens 7 a 9 - Resolução:"
   ]
  },
  {
   "cell_type": "code",
   "execution_count": 6,
   "metadata": {
    "collapsed": false
   },
   "outputs": [
    {
     "data": {
      "image/png": "[encoded data removed]",
      "text/plain": [
       "<matplotlib.figure.Figure at 0xfc1cad1630>"
      ]
     },
     "metadata": {},
     "output_type": "display_data"
    }
   ],
   "source": [
    "ut1 = sorted(ut1)\n",
    "\n",
    "normal = norm.pdf(ut1, loc=u, scale=desv)\n",
    "\n",
    "T = t.pdf (ut1, 10, loc = par[1], scale = desv)\n",
    "\n",
    "plt.hist(ut1, bins = range(90,300000,10000), normed = 1)\n",
    "plt.ylabel(\"Densidade\")\n",
    "plt.xlabel(\"Salario Anual\")\n",
    "plt.plot(ut1, normal)\n",
    "plt.plot(ut1, T)\n",
    "plt.show()"
   ]
  },
  {
   "cell_type": "code",
   "execution_count": 7,
   "metadata": {
    "collapsed": false
   },
   "outputs": [
    {
     "data": {
      "image/png": "[encoded data removed]",
      "text/plain": [
       "<matplotlib.figure.Figure at 0xfc1d5e1908>"
      ]
     },
     "metadata": {},
     "output_type": "display_data"
    }
   ],
   "source": [
    "fra = [] # frequencia relativa acumulada\n",
    "for i in range(len(ut1)):\n",
    "    acc = (i + 0.5) / len(ut1)\n",
    "    if acc < 0:\n",
    "        acc = 0\n",
    "    fra.append(acc) # ver Magalhães e Lima (pag. 195)\n",
    "\n",
    "# Convertemos fra em uma Series do Pandas\n",
    "fra = pd.Series(data=fra)\n",
    "\n",
    "# Gera os valores dos quantis teóricos para as distribuições analisadas\n",
    "q_norm = stats.norm.ppf(fra, loc=u, scale=desv) # quantis teóricos da normal\n",
    "q_t = stats.t.ppf(fra, 2, loc = par[1], scale = desv)\n",
    "\n",
    "\n",
    "fig = plt.figure(figsize=(12,8))\n",
    "\n",
    "plt.title(\"Q-Q plot: Dados x Exponencial x Gamma\")\n",
    "\n",
    "norm_plot, = plt.plot(ut1, q_norm, 'o', color=\"red\", label=\"Normal\")\n",
    "t_plot, = plt.plot(ut1, q_t, 'o', color=\"green\", label = \"T\")\n",
    "\n",
    "plt.legend(handles=[norm_plot, t_plot])\n",
    "plt.plot((min(ut1), max(ut1)), (min(ut1), max(ut1)), '-')\n",
    "\n",
    "\n",
    "for i in range(len(ut1)):\n",
    "    plt.plot((ut1[i], ut1[i]), (q_norm[i], ut1[i]), '-', color='red', alpha=0.3  )\n",
    "    plt.plot((ut1[i], ut1[i]), (q_t[i], ut1[i]), '-', color='green', alpha=0.3  )"
   ]
  },
  {
   "cell_type": "markdown",
   "metadata": {},
   "source": [
    "Atraves do gráfico acima, pode-se perceber que o modelo teorico que melhor se ajustou com os dados reais do salario da população de Chicago foi a distribuição normal, pois seus pontos no grafico acima(vermelhos) ficaram mais proximos da reta dos dados reais."
   ]
  },
  {
   "cell_type": "markdown",
   "metadata": {},
   "source": [
    "___\n",
    "### Itens 10 e 11 - Resolução:"
   ]
  },
  {
   "cell_type": "code",
   "execution_count": 8,
   "metadata": {
    "collapsed": false
   },
   "outputs": [],
   "source": [
    "q_norm1 = []\n",
    "for i in range(1,32062):\n",
    "    q_norm1.append(q_norm[i])\n",
    "    \n",
    "#print(q_norm1[0])\n",
    "\n",
    "q_t1 = []\n",
    "for i in range(1,32062):\n",
    "    q_t1.append(q_t[i])\n",
    "    \n",
    "#print(q_t1[0])\n",
    "\n",
    "ut2 = []\n",
    "for i in range(1,32062):\n",
    "    ut2.append(ut1[i])\n",
    "    \n",
    "    \n",
    "q_norm1 = np.array(q_norm1)\n",
    "q_t1 = np.array(q_t1)\n"
   ]
  },
  {
   "cell_type": "markdown",
   "metadata": {},
   "source": [
    "## Erro quadratico"
   ]
  },
  {
   "cell_type": "code",
   "execution_count": 9,
   "metadata": {
    "collapsed": false
   },
   "outputs": [
    {
     "name": "stdout",
     "output_type": "stream",
     "text": [
      "Erro quadrático da normal :1548716691777.631\n",
      "\n",
      "Erro quadrático da T :116346136459636.375\n",
      "\n"
     ]
    }
   ],
   "source": [
    "erro_quadratico_norm = sum((ut2 - q_norm1)**2)\n",
    "erro_quadratico_t = sum((ut2 - q_t1)**2)\n",
    "\n",
    "print(\"Erro quadrático da normal :{:4.3f}\\n\".format(erro_quadratico_norm))\n",
    "print(\"Erro quadrático da T :{:4.3f}\\n\".format(erro_quadratico_t))"
   ]
  },
  {
   "cell_type": "markdown",
   "metadata": {},
   "source": [
    "## Erro quadratico médio"
   ]
  },
  {
   "cell_type": "code",
   "execution_count": 10,
   "metadata": {
    "collapsed": false
   },
   "outputs": [
    {
     "name": "stdout",
     "output_type": "stream",
     "text": [
      "Erro quadratico médio da Normal : 48305314.6121\n",
      "Erro quadratico médio da T : 3628899175.31\n"
     ]
    }
   ],
   "source": [
    "eqm_norm = erro_quadratico_norm/len(ut2)\n",
    "eqm_t = erro_quadratico_t/len(ut2)\n",
    "\n",
    "print(\"Erro quadratico médio da Normal :\", eqm_norm)\n",
    "print(\"Erro quadratico médio da T :\", eqm_t)"
   ]
  },
  {
   "cell_type": "markdown",
   "metadata": {},
   "source": [
    "## Soma das diferenças"
   ]
  },
  {
   "cell_type": "code",
   "execution_count": 13,
   "metadata": {
    "collapsed": false
   },
   "outputs": [
    {
     "name": "stdout",
     "output_type": "stream",
     "text": [
      "Soma de diferenças da Normal : 185395119.865\n",
      "Soma de diferenças da T : 573042342.826\n"
     ]
    }
   ],
   "source": [
    "soma_diferenças_norm = sum(abs(ut2 - q_norm1))\n",
    "soma_diferenças_t = sum(abs(ut2 - q_t1))\n",
    "\n",
    "print(\"Soma de diferenças da Normal :\", soma_diferenças_norm)\n",
    "print(\"Soma de diferenças da T :\", soma_diferenças_t)"
   ]
  },
  {
   "cell_type": "markdown",
   "metadata": {},
   "source": [
    "## Teste de aderencia acumulativa"
   ]
  },
  {
   "cell_type": "code",
   "execution_count": null,
   "metadata": {
    "collapsed": false
   },
   "outputs": [],
   "source": [
    "cdf_norm = stats.norm.cdf(ut1,loc=u, scale=desv)\n",
    "cdf_t = stats.t.cdf(ut1, 2, loc = 84450.000089057619, scale = desv)\n",
    "\n",
    "\n",
    "fig = plt.figure(figsize=(12,8))\n",
    "\n",
    "plt.title(\"Cumulativa: Dados x Normal x T\")\n",
    "\n",
    "dados_fra_plot, = plt.plot(ut1, fra, '-', color='black', label=\"F.R.A dos dados\")\n",
    "cdf_norm_plot,   = plt.plot(ut1, cdf_norm, '-', color='red', label = \"Cumulativa da Normal\")\n",
    "cdf_t_plot, = plt.plot(ut1, cdf_t, '-', color='green', label = \"Cumulativa da distribuição T\")\n",
    "\n",
    "plt.legend(handles=[dados_fra_plot, cdf_norm_plot, cdf_t_plot])\n",
    "\n",
    "\n",
    "for i in range(len(ut1)):\n",
    "    plt.plot((ut1[i], ut1[i]), (fra[i], cdf_norm[i]), ':', color=\"red\", alpha=0.3)\n",
    "    #Omitido para não poluir muito o gráfico\n",
    "    plt.plot((ut1[i], ut1[i]), (fra[i], cdf_t[i]), '--', color=\"green\", alpha=0.3)"
   ]
  },
  {
   "cell_type": "markdown",
   "metadata": {},
   "source": [
    "## Erro quadrático na cdf"
   ]
  },
  {
   "cell_type": "code",
   "execution_count": null,
   "metadata": {
    "collapsed": false
   },
   "outputs": [],
   "source": [
    "erro_quad_cdf_norm = sum((fra - cdf_norm)**2)\n",
    "\n",
    "erro_quad_cdf_t = sum((fra - cdf_t)**2)\n",
    "\n",
    "print(\"Erro quadrático da CDF da Normal versus F.R.A:\", erro_quad_cdf_norm)\n",
    "print(\"Erro quadrático da CDF da T versus F.R.A:\", erro_quad_cdf_t)"
   ]
  },
  {
   "cell_type": "markdown",
   "metadata": {},
   "source": [
    "## Diferenças absolutas"
   ]
  },
  {
   "cell_type": "code",
   "execution_count": null,
   "metadata": {
    "collapsed": false
   },
   "outputs": [],
   "source": [
    "soma_difs_cdf_norm = sum( abs(fra - cdf_norm))\n",
    "soma_difs_cdf_t = sum( abs(fra - cdf_t))\n",
    "\n",
    "print(\"Erro da soma do módulo das diferenças da Normal versus F.R.A: {0} \\nErro da soma do módulo das diferenças da T versus F.R.A: {1}\".format(soma_difs_cdf_norm, soma_difs_cdf_t))"
   ]
  },
  {
   "cell_type": "code",
   "execution_count": null,
   "metadata": {
    "collapsed": false
   },
   "outputs": [],
   "source": [
    "#ut10 = pd.crosstab(ut1, normal)\n",
    "#ut11 = pd.crosstab(ut1, t)\n",
    "\n",
    "#esse codigo acima esta travando o meu computador, e seria o grafico da tabela final. Vou tentar plotar ele com mais calma depois, por enquanto nao esotu conseguindo resolver o problema de travar  ocomputador."
   ]
  },
  {
   "cell_type": "markdown",
   "metadata": {
    "collapsed": true
   },
   "source": [
    " ## Conclusão\n",
    "\n",
    "Através de todas as análises feitas com o teste de aderencia e os dois graficos acima, pode-se concluir que o modelo probabilistico teorico mais adequado para ajustar os dados acima foi o modelo normal pois a função ajustada por ele se aproximaram bastante dos dados reais. Com isso pode-se calcular de maneira mais eficiente a probabilidade de se encontrar salarios dentre os dados reais da população de Chicago."
   ]
  },
  {
   "cell_type": "code",
   "execution_count": null,
   "metadata": {
    "collapsed": true
   },
   "outputs": [],
   "source": []
  }
 ],
 "metadata": {
  "anaconda-cloud": {},
  "kernelspec": {
   "display_name": "Python [Root]",
   "language": "python",
   "name": "Python [Root]"
  },
  "language_info": {
   "codemirror_mode": {
    "name": "ipython",
    "version": 3
   },
   "file_extension": ".py",
   "mimetype": "text/x-python",
   "name": "python",
   "nbconvert_exporter": "python",
   "pygments_lexer": "ipython3",
   "version": "3.5.2"
  }
 },
 "nbformat": 4,
 "nbformat_minor": 0
}
