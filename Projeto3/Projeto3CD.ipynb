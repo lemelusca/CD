{
 "cells": [
  {
   "cell_type": "code",
   "execution_count": 29,
   "metadata": {
    "collapsed": false
   },
   "outputs": [
    {
     "name": "stdout",
     "output_type": "stream",
     "text": [
      "Esperamos trabalhar no diretório\n",
      "C:\\Users\\Matheus\\Documents\\GitHub\\CD\\projeto_3\n"
     ]
    }
   ],
   "source": [
    "%matplotlib inline\n",
    "\n",
    "import os\n",
    "import matplotlib.pyplot as plt\n",
    "from mpl_toolkits.mplot3d import Axes3D\n",
    "from matplotlib import cm\n",
    "import pandas as pd\n",
    "import numpy as np\n",
    "\n",
    "import statsmodels.api as sm1 #Usa OLS com X como matriz de planejamento\n",
    "import statsmodels.formula.api as sm  #Usa OLS como no R\n",
    "\n",
    "print('Esperamos trabalhar no diretório')\n",
    "print(os.getcwd())"
   ]
  },
  {
   "cell_type": "code",
   "execution_count": 30,
   "metadata": {
    "collapsed": true
   },
   "outputs": [],
   "source": [
    "dados = pd.read_excel('ESPECVIDA.xlsx',index_col=0)\n",
    "dados1 = pd.read_excel('PIBPER.xlsx',index_col=0)\n",
    "dados2 = pd.read_excel('SANIT.xlsx',index_col=0)\n",
    "                     "
   ]
  },
  {
   "cell_type": "code",
   "execution_count": 31,
   "metadata": {
    "collapsed": true
   },
   "outputs": [],
   "source": [
    "d = pd.DataFrame()\n",
    "d1 = pd.DataFrame()\n",
    "d2 = pd.DataFrame()"
   ]
  },
  {
   "cell_type": "code",
   "execution_count": 32,
   "metadata": {
    "collapsed": false
   },
   "outputs": [],
   "source": [
    "d = dados.Dez\n",
    "d1 = dados1.Dez\n",
    "d2 = dados2.Dez"
   ]
  },
  {
   "cell_type": "code",
   "execution_count": 33,
   "metadata": {
    "collapsed": false
   },
   "outputs": [
    {
     "data": {
      "text/plain": [
       "Life expectancy\n",
       "Abkhazia                  NaN\n",
       "Afghanistan              53.6\n",
       "Akrotiri and Dhekelia     NaN\n",
       "Albania                  77.2\n",
       "Algeria                  76.0\n",
       "Name: Dez, dtype: float64"
      ]
     },
     "execution_count": 33,
     "metadata": {},
     "output_type": "execute_result"
    }
   ],
   "source": [
    "d.head()"
   ]
  },
  {
   "cell_type": "code",
   "execution_count": 34,
   "metadata": {
    "collapsed": false
   },
   "outputs": [],
   "source": [
    "D = pd.DataFrame()"
   ]
  },
  {
   "cell_type": "code",
   "execution_count": 35,
   "metadata": {
    "collapsed": true
   },
   "outputs": [],
   "source": [
    "D['expectativa'] = d\n",
    "D['renda'] = d1\n",
    "D['saneamento'] = d2"
   ]
  },
  {
   "cell_type": "code",
   "execution_count": 36,
   "metadata": {
    "collapsed": false
   },
   "outputs": [],
   "source": [
    "D=D[~np.isnan(D.renda)]\n",
    "D = D[~np.isnan(D.expectativa)]\n",
    "D = D[~np.isnan(D.saneamento)]"
   ]
  },
  {
   "cell_type": "code",
   "execution_count": 40,
   "metadata": {
    "collapsed": false
   },
   "outputs": [
    {
     "data": {
      "text/html": [
       "<div>\n",
       "<table border=\"1\" class=\"dataframe\">\n",
       "  <thead>\n",
       "    <tr style=\"text-align: right;\">\n",
       "      <th></th>\n",
       "      <th>expectativa</th>\n",
       "      <th>renda</th>\n",
       "      <th>saneamento</th>\n",
       "    </tr>\n",
       "    <tr>\n",
       "      <th>Life expectancy</th>\n",
       "      <th></th>\n",
       "      <th></th>\n",
       "      <th></th>\n",
       "    </tr>\n",
       "  </thead>\n",
       "  <tbody>\n",
       "    <tr>\n",
       "      <th>Albania</th>\n",
       "      <td>77.2</td>\n",
       "      <td>1915.424459</td>\n",
       "      <td>94.0</td>\n",
       "    </tr>\n",
       "    <tr>\n",
       "      <th>Algeria</th>\n",
       "      <td>76.0</td>\n",
       "      <td>2231.980246</td>\n",
       "      <td>95.0</td>\n",
       "    </tr>\n",
       "    <tr>\n",
       "      <th>Angola</th>\n",
       "      <td>57.6</td>\n",
       "      <td>623.245275</td>\n",
       "      <td>58.0</td>\n",
       "    </tr>\n",
       "    <tr>\n",
       "      <th>Armenia</th>\n",
       "      <td>73.0</td>\n",
       "      <td>1326.710864</td>\n",
       "      <td>90.0</td>\n",
       "    </tr>\n",
       "    <tr>\n",
       "      <th>Australia</th>\n",
       "      <td>82.0</td>\n",
       "      <td>25190.839860</td>\n",
       "      <td>100.0</td>\n",
       "    </tr>\n",
       "  </tbody>\n",
       "</table>\n",
       "</div>"
      ],
      "text/plain": [
       "                 expectativa         renda  saneamento\n",
       "Life expectancy                                       \n",
       "Albania                 77.2   1915.424459        94.0\n",
       "Algeria                 76.0   2231.980246        95.0\n",
       "Angola                  57.6    623.245275        58.0\n",
       "Armenia                 73.0   1326.710864        90.0\n",
       "Australia               82.0  25190.839860       100.0"
      ]
     },
     "execution_count": 40,
     "metadata": {},
     "output_type": "execute_result"
    }
   ],
   "source": [
    "D.head()"
   ]
  },
  {
   "cell_type": "code",
   "execution_count": 42,
   "metadata": {
    "collapsed": false
   },
   "outputs": [
    {
     "data": {
      "image/png": "[encoded data removed]",
      "text/plain": [
       "<matplotlib.figure.Figure at 0x232f9ddc9e8>"
      ]
     },
     "metadata": {},
     "output_type": "display_data"
    }
   ],
   "source": [
    "f, ax = plt.subplots(2,2,figsize=(16,8))\n",
    "ax[0,0].scatter(D.renda, D.expectativa, alpha=0.7)  # Plot the raw data\n",
    "ax[0,0].set_xlabel(\"Renda Per Capita da Pop\")\n",
    "ax[0,0].set_ylabel(\"Expectativa de vida (em anos)\")\n",
    "\n",
    "ax[0,1].scatter(dados.GastoSaudePerCap, dados.ExpVida, alpha=0.7)  # Plot the raw data\n",
    "ax[0,1].set_xlabel(\"Gasto com saúde per capita (em US$)\")\n",
    "ax[0,1].set_ylabel(\"Expectativa de vida (em anos)\")\n",
    "ax[0,1].set_xlim(0,10000)\n",
    "\n",
    "ax[1,0].scatter(dados.PercSaudeGov, dados.ExpVida, alpha=0.7)  # Plot the raw data\n",
    "ax[1,0].set_xlabel(\"% gasto pelo governo com saúde\")\n",
    "ax[1,0].set_ylabel(\"Expectativa de vida (em anos)\")\n",
    "ax[1,0].set_xlim(0,35)\n",
    "\n",
    "ax[1,1].scatter(dados.PropPopSanea, dados.ExpVida, alpha=0.7)  # Plot the raw data\n",
    "ax[1,1].set_xlabel(\"% da população geral com saneamento básico\")\n",
    "ax[1,1].set_ylabel(\"Expectativa de vida (em anos)\")\n",
    "ax[1,1].set_xlim(0,100)\n",
    "\n",
    "plt.tight_layout(1)"
   ]
  },
  {
   "cell_type": "code",
   "execution_count": null,
   "metadata": {
    "collapsed": true
   },
   "outputs": [],
   "source": [
    "ax[0,1].scatter(dados.GastoSaudePerCap, dados.ExpVida, alpha=0.7)  # Plot the raw data\n",
    "ax[0,1].set_xlabel(\"Gasto com saúde per capita (em US$)\")\n",
    "ax[0,1].set_ylabel(\"Expectativa de vida (em anos)\")\n",
    "ax[0,1].set_xlim(0,10000)\n",
    "\n",
    "ax[1,0].scatter(dados.PercSaudeGov, dados.ExpVida, alpha=0.7)  # Plot the raw data\n",
    "ax[1,0].set_xlabel(\"% gasto pelo governo com saúde\")\n",
    "ax[1,0].set_ylabel(\"Expectativa de vida (em anos)\")\n",
    "ax[1,0].set_xlim(0,35)\n",
    "\n",
    "ax[1,1].scatter(dados.PropPopSanea, dados.ExpVida, alpha=0.7)  # Plot the raw data\n",
    "ax[1,1].set_xlabel(\"% da população geral com saneamento básico\")\n",
    "ax[1,1].set_ylabel(\"Expectativa de vida (em anos)\")\n",
    "ax[1,1].set_xlim(0,100)\n",
    "\n",
    "plt.tight_layout(1)"
   ]
  }
 ],
 "metadata": {
  "kernelspec": {
   "display_name": "Python 3",
   "language": "python",
   "name": "python3"
  },
  "language_info": {
   "codemirror_mode": {
    "name": "ipython",
    "version": 3
   },
   "file_extension": ".py",
   "mimetype": "text/x-python",
   "name": "python",
   "nbconvert_exporter": "python",
   "pygments_lexer": "ipython3",
   "version": "3.5.1"
  }
 },
 "nbformat": 4,
 "nbformat_minor": 0
}
